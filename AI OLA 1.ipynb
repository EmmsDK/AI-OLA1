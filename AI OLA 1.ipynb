{
 "cells": [
  {
   "cell_type": "markdown",
   "id": "070f0750-5ab1-4ff0-ab5e-70a840ceb9d6",
   "metadata": {},
   "source": [
    "# OLA 1 - Data Wrangling and Descriptive Statistics"
   ]
  },
  {
   "cell_type": "markdown",
   "id": "73d02104-c113-4b6a-b6a2-8cc8babfb661",
   "metadata": {},
   "source": [
    "The following OLA gives yu an opportinmuty to wokr on the first stages of a machine learning / AI project. It is a group project and is intended to give you a chance to practice using typical Numpy/Pandas/Matplotlib and Seaborn functions to prepare and visualize data using simple plots."
   ]
  },
  {
   "cell_type": "markdown",
   "id": "248c5300-a34f-403b-9a25-4f5522abee7e",
   "metadata": {},
   "source": [
    "## DUE DATE: Week 9 (26 February) hand in on Moodle"
   ]
  },
  {
   "cell_type": "markdown",
   "id": "5209d9e3-1eb7-4764-9b48-ff6dcf3ed546",
   "metadata": {},
   "source": [
    "### Task 1: Data Exploration and Cleaning"
   ]
  },
  {
   "cell_type": "markdown",
   "id": "1bcf11d8-94ed-4144-9347-c61fb93d397b",
   "metadata": {},
   "source": []
  },
  {
   "cell_type": "markdown",
   "id": "1e72062b-9ce3-47c9-97d6-0abc4e951fa0",
   "metadata": {},
   "source": [
    "### Task 2: Feature Engineering and Descriptive Statistics"
   ]
  },
  {
   "cell_type": "code",
   "execution_count": null,
   "id": "27fb3cd8-cea3-4edf-a0f9-d9ea9ba592f4",
   "metadata": {},
   "outputs": [],
   "source": []
  },
  {
   "cell_type": "markdown",
   "id": "289443fb-db2a-4bfa-bb78-893605b0c06a",
   "metadata": {},
   "source": [
    "### Task 3: Data Wrangling and Analysis"
   ]
  },
  {
   "cell_type": "code",
   "execution_count": null,
   "id": "21ec284b-e88b-4d9e-8e3b-2dd77898bf6a",
   "metadata": {},
   "outputs": [],
   "source": []
  },
  {
   "cell_type": "code",
   "execution_count": null,
   "id": "b0632ae0-0aa9-4771-be21-8b3aa285beb7",
   "metadata": {},
   "outputs": [],
   "source": []
  },
  {
   "cell_type": "markdown",
   "id": "80f0802f-02c6-4243-8c84-927e7b8128c3",
   "metadata": {},
   "source": [
    "* A Jupyter notebook containing all the code used.\n",
    "* A short report (2-3 pages) summarizing the findings and insights from the\n",
    "exercises, including figures and tables as necessary. (This can but does not\n",
    "have to be done in LaTeX! It could be done in Markdown format inside the\n",
    "Jupyter Notebook)"
   ]
  },
  {
   "cell_type": "code",
   "execution_count": null,
   "id": "0bbf2de4-a457-4d19-932c-4a447173cf3c",
   "metadata": {},
   "outputs": [],
   "source": []
  }
 ],
 "metadata": {
  "kernelspec": {
   "display_name": "Python [conda env:base] *",
   "language": "python",
   "name": "conda-base-py"
  },
  "language_info": {
   "codemirror_mode": {
    "name": "ipython",
    "version": 3
   },
   "file_extension": ".py",
   "mimetype": "text/x-python",
   "name": "python",
   "nbconvert_exporter": "python",
   "pygments_lexer": "ipython3",
   "version": "3.11.5"
  }
 },
 "nbformat": 4,
 "nbformat_minor": 5
}
