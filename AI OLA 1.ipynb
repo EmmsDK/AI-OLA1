{
 "cells": [
  {
   "cell_type": "markdown",
   "id": "070f0750-5ab1-4ff0-ab5e-70a840ceb9d6",
   "metadata": {},
   "source": [
    "# OLA 1 - Data Wrangling and Descriptive Statistics"
   ]
  },
  {
   "cell_type": "markdown",
   "id": "73d02104-c113-4b6a-b6a2-8cc8babfb661",
   "metadata": {},
   "source": [
    "The following OLA gives yu an opportinmuty to wokr on the first stages of a machine learning / AI project. It is a group project and is intended to give you a chance to practice using typical Numpy/Pandas/Matplotlib and Seaborn functions to prepare and visualize data using simple plots."
   ]
  },
  {
   "cell_type": "markdown",
   "id": "248c5300-a34f-403b-9a25-4f5522abee7e",
   "metadata": {},
   "source": [
    "## DUE DATE: Week 9 (26 February) hand in on Moodle"
   ]
  },
  {
   "cell_type": "markdown",
   "id": "5209d9e3-1eb7-4764-9b48-ff6dcf3ed546",
   "metadata": {},
   "source": [
    "### Task 1: Data Exploration and Cleaning"
   ]
  },
  {
   "cell_type": "code",
   "execution_count": 30,
   "id": "16880b5c-248e-40ea-bfa5-fb2c050f21c4",
   "metadata": {},
   "outputs": [
    {
     "name": "stdout",
     "output_type": "stream",
     "text": [
      "Collecting kagglehub\n",
      "  Obtaining dependency information for kagglehub from https://files.pythonhosted.org/packages/a2/f5/236dbb7eda18e6d57345b2e3014ced4969a6f1103e9a153f7c56414341c9/kagglehub-0.3.8-py3-none-any.whl.metadata\n",
      "  Downloading kagglehub-0.3.8-py3-none-any.whl.metadata (30 kB)\n",
      "Requirement already satisfied: packaging in c:\\users\\emili\\anaconda3\\lib\\site-packages (from kagglehub) (23.1)\n",
      "Requirement already satisfied: requests in c:\\users\\emili\\anaconda3\\lib\\site-packages (from kagglehub) (2.32.3)\n",
      "Requirement already satisfied: tqdm in c:\\users\\emili\\anaconda3\\lib\\site-packages (from kagglehub) (4.65.0)\n",
      "Requirement already satisfied: charset-normalizer<4,>=2 in c:\\users\\emili\\anaconda3\\lib\\site-packages (from requests->kagglehub) (2.0.4)\n",
      "Requirement already satisfied: idna<4,>=2.5 in c:\\users\\emili\\anaconda3\\lib\\site-packages (from requests->kagglehub) (3.4)\n",
      "Requirement already satisfied: urllib3<3,>=1.21.1 in c:\\users\\emili\\anaconda3\\lib\\site-packages (from requests->kagglehub) (1.26.16)\n",
      "Requirement already satisfied: certifi>=2017.4.17 in c:\\users\\emili\\anaconda3\\lib\\site-packages (from requests->kagglehub) (2025.1.31)\n",
      "Requirement already satisfied: colorama in c:\\users\\emili\\anaconda3\\lib\\site-packages (from tqdm->kagglehub) (0.4.6)\n",
      "Downloading kagglehub-0.3.8-py3-none-any.whl (55 kB)\n",
      "   ---------------------------------------- 0.0/55.2 kB ? eta -:--:--\n",
      "   ------------------------------------- -- 51.2/55.2 kB 1.3 MB/s eta 0:00:01\n",
      "   ---------------------------------------- 55.2/55.2 kB 955.6 kB/s eta 0:00:00\n",
      "Installing collected packages: kagglehub\n",
      "Successfully installed kagglehub-0.3.8\n"
     ]
    }
   ],
   "source": [
    "!pip install kagglehub"
   ]
  },
  {
   "cell_type": "code",
   "execution_count": 32,
   "id": "d21e455f-bbe9-4594-b838-c5786c9766ae",
   "metadata": {},
   "outputs": [
    {
     "name": "stdout",
     "output_type": "stream",
     "text": [
      "Downloading from https://www.kaggle.com/api/v1/datasets/download/sachinkumar62/datascience-job-data?dataset_version_number=1...\n"
     ]
    },
    {
     "name": "stderr",
     "output_type": "stream",
     "text": [
      "100%|██████████| 247k/247k [00:00<00:00, 569kB/s]"
     ]
    },
    {
     "name": "stdout",
     "output_type": "stream",
     "text": [
      "Extracting files...\n",
      "Path to dataset files: C:\\Users\\Emili\\.cache\\kagglehub\\datasets\\sachinkumar62\\datascience-job-data\\versions\\1\n"
     ]
    },
    {
     "name": "stderr",
     "output_type": "stream",
     "text": [
      "\n"
     ]
    }
   ],
   "source": [
    "import kagglehub\n",
    "\n",
    "# Download latest version\n",
    "path = kagglehub.dataset_download(\"sachinkumar62/datascience-job-data\")\n",
    "\n",
    "print(\"Path to dataset files:\", path)"
   ]
  },
  {
   "cell_type": "markdown",
   "id": "1e72062b-9ce3-47c9-97d6-0abc4e951fa0",
   "metadata": {},
   "source": [
    "### Task 2: Feature Engineering and Descriptive Statistics"
   ]
  },
  {
   "cell_type": "code",
   "execution_count": null,
   "id": "27fb3cd8-cea3-4edf-a0f9-d9ea9ba592f4",
   "metadata": {},
   "outputs": [],
   "source": []
  },
  {
   "cell_type": "markdown",
   "id": "289443fb-db2a-4bfa-bb78-893605b0c06a",
   "metadata": {},
   "source": [
    "### Task 3: Data Wrangling and Analysis"
   ]
  },
  {
   "cell_type": "code",
   "execution_count": null,
   "id": "21ec284b-e88b-4d9e-8e3b-2dd77898bf6a",
   "metadata": {},
   "outputs": [],
   "source": []
  },
  {
   "cell_type": "markdown",
   "id": "80f0802f-02c6-4243-8c84-927e7b8128c3",
   "metadata": {},
   "source": [
    "* A Jupyter notebook containing all the code used.\n",
    "* A short report (2-3 pages) summarizing the findings and insights from the exercises, including figures and tables as necessary. (This can but does not have to be done in LaTeX! It could be done in Markdown format inside the Jupyter Notebook)\n",
    "* Submit work to the hand-in folder via the Moodle course - it is a group report but please hand in individually with all group member names and group name easy to find. "
   ]
  },
  {
   "cell_type": "code",
   "execution_count": null,
   "id": "c3474a53-b6a9-4118-90ff-eca4aa3d86f0",
   "metadata": {},
   "outputs": [],
   "source": []
  }
 ],
 "metadata": {
  "kernelspec": {
   "display_name": "Python [conda env:base] *",
   "language": "python",
   "name": "conda-base-py"
  },
  "language_info": {
   "codemirror_mode": {
    "name": "ipython",
    "version": 3
   },
   "file_extension": ".py",
   "mimetype": "text/x-python",
   "name": "python",
   "nbconvert_exporter": "python",
   "pygments_lexer": "ipython3",
   "version": "3.11.5"
  }
 },
 "nbformat": 4,
 "nbformat_minor": 5
}
